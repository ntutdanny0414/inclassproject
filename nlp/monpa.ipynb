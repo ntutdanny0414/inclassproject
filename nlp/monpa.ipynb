{
 "cells": [
  {
   "cell_type": "code",
   "execution_count": 1,
   "metadata": {},
   "outputs": [
    {
     "name": "stdout",
     "output_type": "stream",
     "text": [
      "+---------------------------------------------------------------------+\n",
      "  Welcome to MONPA: Multi-Objective NER POS Annotator for Chinese\n",
      "+---------------------------------------------------------------------+\n",
      "首次使用 monpa 將會直接下載 model 檔，約 200MB，並儲存於 monpa package 資料夾，下次就不需再下載。\n",
      "At first time using, we will automatically download the model file (around 200MB).\n",
      "Total  file  size: 216681674 KB\n",
      "#########"
     ]
    },
    {
     "name": "stderr",
     "output_type": "stream",
     "text": [
      "08/01/2019 10:57:20 - INFO - monpa -   running on device cpu\n"
     ]
    },
    {
     "name": "stdout",
     "output_type": "stream",
     "text": [
      "#已完成 monpa model 下載，歡迎使用。Download completed.\n"
     ]
    }
   ],
   "source": [
    "import monpa"
   ]
  },
  {
   "cell_type": "code",
   "execution_count": 10,
   "metadata": {},
   "outputs": [
    {
     "data": {
      "text/plain": [
       "['請問',\n",
       " '幾',\n",
       " '天',\n",
       " '會',\n",
       " '收到',\n",
       " '網卡',\n",
       " '?',\n",
       " '可否',\n",
       " '自取',\n",
       " '？',\n",
       " '因為',\n",
       " '星期五',\n",
       " '(',\n",
       " '6/8',\n",
       " ')',\n",
       " '就',\n",
       " '要',\n",
       " '出國',\n",
       " '了']"
      ]
     },
     "execution_count": 10,
     "metadata": {},
     "output_type": "execute_result"
    }
   ],
   "source": [
    "sentence = \"請問幾天會收到網卡?可否自取？因為星期五(6/8)就要出國了\"#\"蔡英文總統今天受邀參加台北市政府所舉辦的陽明山馬拉松比賽。\"\n",
    "result = monpa.cut(sentence)\n",
    "result"
   ]
  },
  {
   "cell_type": "code",
   "execution_count": 11,
   "metadata": {},
   "outputs": [
    {
     "data": {
      "text/plain": [
       "[['請問', 'VE'],\n",
       " ['幾', 'Neu'],\n",
       " ['天', 'Nf'],\n",
       " ['會', 'D'],\n",
       " ['收到', 'VC'],\n",
       " ['網卡', 'Na'],\n",
       " ['?', 'QUESTIONCATEGORY'],\n",
       " ['可否', 'D'],\n",
       " ['自取', 'VC'],\n",
       " ['？', 'QUESTIONCATEGORY'],\n",
       " ['因為', 'Cbb'],\n",
       " ['星期五', 'Nd'],\n",
       " ['(', 'PARENTHESISCATEGORY'],\n",
       " ['6/8', 'Neqa'],\n",
       " [')', 'PARENTHESISCATEGORY'],\n",
       " ['就', 'D'],\n",
       " ['要', 'D'],\n",
       " ['出國', 'VA'],\n",
       " ['了', 'Di']]"
      ]
     },
     "execution_count": 11,
     "metadata": {},
     "output_type": "execute_result"
    }
   ],
   "source": [
    "psegout = monpa.pseg(sentence)\n",
    "psegout"
   ]
  },
  {
   "cell_type": "code",
   "execution_count": null,
   "metadata": {},
   "outputs": [],
   "source": [
    "#monpa.load_userdict(\"./userdict.txt\")#載字典"
   ]
  },
  {
   "cell_type": "code",
   "execution_count": 2,
   "metadata": {},
   "outputs": [
    {
     "name": "stdout",
     "output_type": "stream",
     "text": [
      "[['請', '問', '幾', '天會', '收到', '網卡', '?', '可否', '自取', '？', '因為', '星期五', '(', '6', '/', '8', ')', '就要', '出國', '了']]\n"
     ]
    }
   ],
   "source": [
    "import fool\n",
    "text = \"請問幾天會收到網卡?可否自取？因為星期五(6/8)就要出國了\"\n",
    "print(fool.cut(text))"
   ]
  },
  {
   "cell_type": "code",
   "execution_count": 3,
   "metadata": {},
   "outputs": [
    {
     "name": "stdout",
     "output_type": "stream",
     "text": [
      "[[(17, 21, 'time', '星期五')]]\n"
     ]
    }
   ],
   "source": [
    "words, ners = fool.analysis(text)\n",
    "print(ners)"
   ]
  }
 ],
 "metadata": {
  "kernelspec": {
   "display_name": "Python3(torch)",
   "language": "python",
   "name": "tf"
  },
  "language_info": {
   "codemirror_mode": {
    "name": "ipython",
    "version": 3
   },
   "file_extension": ".py",
   "mimetype": "text/x-python",
   "name": "python",
   "nbconvert_exporter": "python",
   "pygments_lexer": "ipython3",
   "version": "3.6.7"
  }
 },
 "nbformat": 4,
 "nbformat_minor": 2
}
